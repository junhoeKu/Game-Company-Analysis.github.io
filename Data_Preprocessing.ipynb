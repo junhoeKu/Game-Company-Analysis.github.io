{
 "cells": [
  {
   "cell_type": "markdown",
   "metadata": {},
   "source": [
    "# **텍스트데이터분석 프로젝트 전처리 코드**\n",
    "#### **주제** : 게임사 5곳 특징, 전략, 사회적 가치 등 비교 분석 (넥슨, 크래프톤, 넷마블, 라이엇코리아, 엔씨소프트)\n",
    "#### **1. Data Load & Data Merge**"
   ]
  },
  {
   "cell_type": "code",
   "execution_count": 1,
   "metadata": {},
   "outputs": [],
   "source": [
    "import pandas as pd\n",
    "import numpy as np\n",
    "import re\n",
    "from sklearn.feature_extraction.text import TfidfVectorizer\n",
    "from sklearn.metrics.pairwise import cosine_similarity\n",
    "pd.set_option('display.max_colwidth', 200)\n",
    "\n",
    "krafton_news = pd.read_csv('krafton_news.csv')\n",
    "krafton_blog = pd.read_csv('krafton_blog.csv')\n",
    "nexon_news = pd.read_csv('nexon_news.csv')\n",
    "nexon_blog = pd.read_csv('nexon_blog.csv')\n",
    "ncsoft_blog = pd.read_csv('ncsoft_blog.csv')\n",
    "ncsoft_news = pd.read_csv('ncsoft_news.csv')\n",
    "netmarble_blog = pd.read_csv('netmable_blog.csv')\n",
    "netmarble_news = pd.read_csv('netmable_news.csv')\n",
    "riot_blog = pd.read_csv('riot_blog.csv')\n",
    "riot_news = pd.read_csv('riot_news.csv')\n",
    "\n",
    "## 각 게임사별 라벨링 작업 진행\n",
    "krafton_news['category'] = 'krafton_news'\n",
    "krafton_blog['category'] = 'krafton_blog'\n",
    "nexon_news['category'] = 'nexon_news'\n",
    "nexon_blog['category'] = 'nexon_blog'\n",
    "ncsoft_news['category'] = 'ncsoft_news'\n",
    "ncsoft_blog['category'] = 'ncsoft_blog'\n",
    "netmarble_news['category'] = 'netmarble_news'\n",
    "netmarble_blog['category'] = 'netmarble_blog'\n",
    "riot_news['category'] = 'riot_news'\n",
    "riot_blog['category'] = 'riot_blog'"
   ]
  },
  {
   "cell_type": "code",
   "execution_count": 2,
   "metadata": {},
   "outputs": [],
   "source": [
    "## 각 게임사별 데이터프레임 concat을 위해 slicing\n",
    "krafton_news = krafton_news[['title', 'body', 'link', 'category']]\n",
    "krafton_blog = krafton_blog[['title', 'body', 'link', 'category']]\n",
    "\n",
    "nexon_news = nexon_news[['title', 'body', 'link', 'category']]\n",
    "nexon_blog = nexon_blog[['title', 'body', 'link', 'category']]\n",
    "\n",
    "ncsoft_news = ncsoft_news[['title', 'body', 'link', 'category']]\n",
    "ncsoft_blog = ncsoft_blog[['title', 'body', 'link', 'category']]\n",
    "\n",
    "netmarble_news = netmarble_news[['title', 'body', 'link', 'category']]\n",
    "netmarble_blog = netmarble_blog[['title', 'body', 'link', 'category']]\n",
    "\n",
    "riot_news = riot_news[['title', 'body', 'link', 'category']]\n",
    "riot_blog = riot_blog[['title', 'body', 'link', 'category']]\n",
    "\n",
    "df = pd.concat([krafton_news, krafton_blog, nexon_news, nexon_blog, ncsoft_news, ncsoft_blog, netmarble_news, netmarble_blog, riot_news, riot_blog], axis = 0)"
   ]
  },
  {
   "cell_type": "markdown",
   "metadata": {},
   "source": [
    "#### **2. Data Preprocessing**\n",
    "- 불용어 제거\n",
    "- 결측치 제거\n",
    "- 중복링크 제거"
   ]
  },
  {
   "cell_type": "code",
   "execution_count": 3,
   "metadata": {},
   "outputs": [],
   "source": [
    "## 결측치 제거\n",
    "df = df.loc[(df.title.notnull()) & (df.body.notnull())]\n",
    "\n",
    "## 문서의 내용이 없는 경우 제거\n",
    "df = df.loc[df.body != '사라진 페이지']\n",
    "\n",
    "## title 불용어 제거\n",
    "pattern1 = re.compile(r'<[^>]*>')\n",
    "df.title = df.title.apply(lambda x: pattern1.sub('', x))  ## <b> 태그 제거\n",
    "df.title.replace('↑', '상승', regex = True, inplace = True)  \n",
    "df.title.replace('quot', ' ', regex = True, inplace = True)  ## 인용구 제거\n",
    "df.title.replace('amp', ' ', regex = True, inplace = True)  ## & 마크 제거\n",
    "df.title = df.title.str.replace('[^가-힣0-9a-zA-Z.,?!()\\[\\] ]', '', regex=True)  ## 한글, 숫자, 영어, 공백, 문장부호, 괄호까지만 남기고 제거\n",
    "df.title = df.title.str.replace(r'http[^[\\(\\sㄱ-ㅎㅏ-ㅣ가-힣]+', ' ', regex=True)  ## 제목에 http로 시작하는 링크가 있는 경우 제거\n",
    "df.title = df.title.str.replace(r'www[^[\\(\\sㄱ-ㅎㅏ-ㅣ가-힣]+', ' ', regex=True)  ## 제목에 www로 시작하는 링크가 있는 경우 제거\n",
    "df.title = df.title.str.replace(r'blog[^[\\(\\sㄱ-ㅎㅏ-ㅣ가-힣]+', ' ', regex=True)  ## 제목에 blog로 시작하는 링크가 있는 경우 제거\n",
    "df.title = df.title.apply(lambda x: re.sub(r'\\(\\s*\\)', ' ', x))  ## 텍스트 없이 괄호만 남은 경우에 괄호 제거\n",
    "\n",
    "## body 불용어 제거\n",
    "df.body.replace('\\n', ' ', regex = True, inplace = True)  ## 줄바꿈 문자 제거\n",
    "df.body.replace('↑', '상승', regex = True, inplace = True)\n",
    "df.body.replace('↓', '하락', regex = True, inplace = True)\n",
    "df.body = df.body.str.replace('[^가-힣0-9a-zA-Z.,?!%()\\[\\] ]', ' ', regex=True)  ## 한글, 숫자, 영어, 공백, 문장부호, 괄호까지만 남기고 제거\n",
    "df.body = df.body.str.replace(r'http[^[\\(\\sㄱ-ㅎㅏ-ㅣ가-힣]+', ' ', regex=True)  ## 제목에 http로 시작하는 링크가 있는 경우 제거\n",
    "df.body = df.body.str.replace(r'www[^[\\(\\sㄱ-ㅎㅏ-ㅣ가-힣]+', ' ', regex=True)  ## 제목에 www로 시작하는 링크가 있는 경우 제거\n",
    "df.body = df.body.str.replace(r'blog[^[\\(\\sㄱ-ㅎㅏ-ㅣ가-힣]+', ' ', regex=True)  ## 제목에 blog로 시작하는 링크가 있는 경우 제거\n",
    "df.body = df.body.apply(lambda x: re.sub(r'\\(\\s*\\)', ' ', x))  ## 텍스트 없이 괄호만 남은 경우에 괄호 제거\n",
    "\n",
    "## 게임사별 중복 링크 제거\n",
    "## 첫 번째 값을 남기고 나머지를 제거했는데 먼저 나올수록 연관도가 높은 글이라고 생각해 이렇게 전처리했습니다\n",
    "df = df.drop_duplicates(subset='link', keep='first')\n",
    "\n",
    "## '라이엇 게임즈'랑 '라이엇게임즈'가 같은 의미라서 통합 작업\n",
    "df['title'] = df.title.replace('라이엇게임즈', '라이엇 게임즈', regex = True)\n",
    "df['body'] = df.body.replace('라이엇게임즈', '라이엇 게임즈', regex = True)"
   ]
  },
  {
   "cell_type": "markdown",
   "metadata": {},
   "source": [
    "#### **3. Data Extraction**"
   ]
  },
  {
   "cell_type": "code",
   "execution_count": 4,
   "metadata": {},
   "outputs": [],
   "source": [
    "df.to_csv('total_df.csv', index = False)"
   ]
  },
  {
   "cell_type": "code",
   "execution_count": null,
   "metadata": {},
   "outputs": [],
   "source": []
  }
 ],
 "metadata": {
  "kernelspec": {
   "display_name": "base",
   "language": "python",
   "name": "python3"
  },
  "language_info": {
   "codemirror_mode": {
    "name": "ipython",
    "version": 3
   },
   "file_extension": ".py",
   "mimetype": "text/x-python",
   "name": "python",
   "nbconvert_exporter": "python",
   "pygments_lexer": "ipython3",
   "version": "3.11.5"
  }
 },
 "nbformat": 4,
 "nbformat_minor": 2
}
